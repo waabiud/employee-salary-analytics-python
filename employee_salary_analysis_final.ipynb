{
 "cells": [
  {
   "cell_type": "markdown",
   "id": "ccd7450c",
   "metadata": {},
   "source": [
    "# Employee Salary Analysis and Visualization using Python\n",
    "\n",
    "Developer-style, GitHub-ready notebook. This notebook performs data loading, cleaning, exploratory data analysis, statistical testing (ANOVA), visualizations, and includes extra practice sections such as predictive modeling."
   ]
  },
  {
   "cell_type": "code",
   "execution_count": 1,
   "id": "7e7dcb4f",
   "metadata": {},
   "outputs": [],
   "source": [
    "import pandas as pd\n",
    "import numpy as np\n",
    "import matplotlib.pyplot as plt\n",
    "import seaborn as sns\n",
    "import statsmodels.api as sm\n",
    "from statsmodels.formula.api import ols\n",
    "from scipy import stats\n",
    "from sklearn.linear_model import LinearRegression\n",
    "from sklearn.model_selection import train_test_split\n",
    "from sklearn.metrics import mean_squared_error, r2_score\n",
    "\n",
    "sns.set(style='whitegrid', palette='muted')\n",
    "%matplotlib inline"
   ]
  },
  {
   "cell_type": "markdown",
   "id": "da5f2ea8",
   "metadata": {},
   "source": [
    "## Load data\n",
    "\n",
    "Load the dataset from the notebook environment. The file name expected in the working directory is **employee_salary_data.csv**."
   ]
  },
  {
   "cell_type": "code",
   "execution_count": 4,
   "id": "27776988",
   "metadata": {},
   "outputs": [
    {
     "data": {
      "text/html": [
       "<div>\n",
       "<style scoped>\n",
       "    .dataframe tbody tr th:only-of-type {\n",
       "        vertical-align: middle;\n",
       "    }\n",
       "\n",
       "    .dataframe tbody tr th {\n",
       "        vertical-align: top;\n",
       "    }\n",
       "\n",
       "    .dataframe thead th {\n",
       "        text-align: right;\n",
       "    }\n",
       "</style>\n",
       "<table border=\"1\" class=\"dataframe\">\n",
       "  <thead>\n",
       "    <tr style=\"text-align: right;\">\n",
       "      <th></th>\n",
       "      <th>Employee_ID</th>\n",
       "      <th>Age</th>\n",
       "      <th>Gender</th>\n",
       "      <th>Education_Level</th>\n",
       "      <th>Work_Experience</th>\n",
       "      <th>Job_Title</th>\n",
       "      <th>Department</th>\n",
       "      <th>Monthly_Salary</th>\n",
       "      <th>Performance_Score</th>\n",
       "      <th>Remote_Work_Percentage</th>\n",
       "      <th>City</th>\n",
       "    </tr>\n",
       "  </thead>\n",
       "  <tbody>\n",
       "    <tr>\n",
       "      <th>0</th>\n",
       "      <td>1001</td>\n",
       "      <td>50</td>\n",
       "      <td>Male</td>\n",
       "      <td>Bachelor</td>\n",
       "      <td>9</td>\n",
       "      <td>Manager</td>\n",
       "      <td>Marketing</td>\n",
       "      <td>80000.0</td>\n",
       "      <td>8</td>\n",
       "      <td>25</td>\n",
       "      <td>Nakuru</td>\n",
       "    </tr>\n",
       "    <tr>\n",
       "      <th>1</th>\n",
       "      <td>1002</td>\n",
       "      <td>36</td>\n",
       "      <td>Female</td>\n",
       "      <td>Bachelor</td>\n",
       "      <td>16</td>\n",
       "      <td>Data Scientist</td>\n",
       "      <td>Operations</td>\n",
       "      <td>69000.0</td>\n",
       "      <td>9</td>\n",
       "      <td>25</td>\n",
       "      <td>Eldoret</td>\n",
       "    </tr>\n",
       "    <tr>\n",
       "      <th>2</th>\n",
       "      <td>1003</td>\n",
       "      <td>29</td>\n",
       "      <td>Female</td>\n",
       "      <td>Bachelor</td>\n",
       "      <td>9</td>\n",
       "      <td>Analyst</td>\n",
       "      <td>Marketing</td>\n",
       "      <td>48000.0</td>\n",
       "      <td>3</td>\n",
       "      <td>0</td>\n",
       "      <td>Kisumu</td>\n",
       "    </tr>\n",
       "    <tr>\n",
       "      <th>3</th>\n",
       "      <td>1004</td>\n",
       "      <td>42</td>\n",
       "      <td>Female</td>\n",
       "      <td>Bachelor</td>\n",
       "      <td>16</td>\n",
       "      <td>Consultant</td>\n",
       "      <td>Finance</td>\n",
       "      <td>91000.0</td>\n",
       "      <td>10</td>\n",
       "      <td>0</td>\n",
       "      <td>Kisumu</td>\n",
       "    </tr>\n",
       "    <tr>\n",
       "      <th>4</th>\n",
       "      <td>1005</td>\n",
       "      <td>40</td>\n",
       "      <td>Female</td>\n",
       "      <td>Bachelor</td>\n",
       "      <td>19</td>\n",
       "      <td>Manager</td>\n",
       "      <td>Finance</td>\n",
       "      <td>64000.0</td>\n",
       "      <td>3</td>\n",
       "      <td>25</td>\n",
       "      <td>Nairobi</td>\n",
       "    </tr>\n",
       "  </tbody>\n",
       "</table>\n",
       "</div>"
      ],
      "text/plain": [
       "   Employee_ID  Age  Gender Education_Level  Work_Experience       Job_Title  \\\n",
       "0         1001   50    Male        Bachelor                9         Manager   \n",
       "1         1002   36  Female        Bachelor               16  Data Scientist   \n",
       "2         1003   29  Female        Bachelor                9         Analyst   \n",
       "3         1004   42  Female        Bachelor               16      Consultant   \n",
       "4         1005   40  Female        Bachelor               19         Manager   \n",
       "\n",
       "   Department  Monthly_Salary  Performance_Score  Remote_Work_Percentage  \\\n",
       "0   Marketing         80000.0                  8                      25   \n",
       "1  Operations         69000.0                  9                      25   \n",
       "2   Marketing         48000.0                  3                       0   \n",
       "3     Finance         91000.0                 10                       0   \n",
       "4     Finance         64000.0                  3                      25   \n",
       "\n",
       "      City  \n",
       "0   Nakuru  \n",
       "1  Eldoret  \n",
       "2   Kisumu  \n",
       "3   Kisumu  \n",
       "4  Nairobi  "
      ]
     },
     "execution_count": 4,
     "metadata": {},
     "output_type": "execute_result"
    }
   ],
   "source": [
    "df=pd.read_csv(r\"C:\\Users\\User\\Downloads\\employee_salary_data.csv\")\n",
    "df.head()"
   ]
  },
  {
   "cell_type": "markdown",
   "id": "23ef355a",
   "metadata": {},
   "source": [
    "## Quick inspection\n",
    "\n",
    "Check shape, dtypes, missing values, and a concise summary."
   ]
  },
  {
   "cell_type": "code",
   "execution_count": 5,
   "id": "c9931cf7",
   "metadata": {},
   "outputs": [
    {
     "name": "stdout",
     "output_type": "stream",
     "text": [
      "Shape: (200, 11)\n",
      "\n",
      "Data types:\n",
      "Employee_ID                 int64\n",
      "Age                         int64\n",
      "Gender                     object\n",
      "Education_Level            object\n",
      "Work_Experience             int64\n",
      "Job_Title                  object\n",
      "Department                 object\n",
      "Monthly_Salary            float64\n",
      "Performance_Score           int64\n",
      "Remote_Work_Percentage      int64\n",
      "City                       object\n",
      "dtype: object\n",
      "\n",
      "Missing values per column:\n",
      "Employee_ID               0\n",
      "Age                       0\n",
      "Gender                    0\n",
      "Education_Level           0\n",
      "Work_Experience           0\n",
      "Job_Title                 0\n",
      "Department                0\n",
      "Monthly_Salary            0\n",
      "Performance_Score         0\n",
      "Remote_Work_Percentage    0\n",
      "City                      0\n",
      "dtype: int64\n",
      "\n",
      "Duplicate rows: 0\n"
     ]
    }
   ],
   "source": [
    "print('Shape:', df.shape)\n",
    "print('\\nData types:')\n",
    "print(df.dtypes)\n",
    "\n",
    "print('\\nMissing values per column:')\n",
    "print(df.isnull().sum())\n",
    "\n",
    "print('\\nDuplicate rows:', df.duplicated().sum())"
   ]
  },
  {
   "cell_type": "markdown",
   "id": "5f973564",
   "metadata": {},
   "source": [
    "## Data cleaning\n",
    "\n",
    "- Drop exact duplicate rows\n",
    "- Handle obvious inconsistent column names (strip spaces)\n",
    "- Basic type conversions\n"
   ]
  },
  {
   "cell_type": "code",
   "execution_count": 6,
   "id": "6e751085",
   "metadata": {},
   "outputs": [
    {
     "name": "stdout",
     "output_type": "stream",
     "text": [
      "Dropped 0 duplicate rows\n",
      "<class 'pandas.core.frame.DataFrame'>\n",
      "RangeIndex: 200 entries, 0 to 199\n",
      "Data columns (total 11 columns):\n",
      " #   Column                  Non-Null Count  Dtype  \n",
      "---  ------                  --------------  -----  \n",
      " 0   Employee_ID             200 non-null    int64  \n",
      " 1   Age                     200 non-null    int64  \n",
      " 2   Gender                  200 non-null    object \n",
      " 3   Education_Level         200 non-null    object \n",
      " 4   Work_Experience         200 non-null    int64  \n",
      " 5   Job_Title               200 non-null    object \n",
      " 6   Department              200 non-null    object \n",
      " 7   Monthly_Salary          200 non-null    float64\n",
      " 8   Performance_Score       200 non-null    int64  \n",
      " 9   Remote_Work_Percentage  200 non-null    int64  \n",
      " 10  City                    200 non-null    object \n",
      "dtypes: float64(1), int64(5), object(5)\n",
      "memory usage: 17.3+ KB\n"
     ]
    }
   ],
   "source": [
    "df.columns = [c.strip().replace(' ', '_') for c in df.columns]\n",
    "initial_rows = df.shape[0]\n",
    "df = df.drop_duplicates()\n",
    "print(f'Dropped {initial_rows - df.shape[0]} duplicate rows')\n",
    "\n",
    "for col in ['Monthly_Salary', 'Work_Experience', 'Age', 'Performance_Score']:\n",
    "    if col in df.columns:\n",
    "        df[col] = pd.to_numeric(df[col], errors='coerce')\n",
    "\n",
    "\n",
    "df.info()"
   ]
  },
  {
   "cell_type": "markdown",
   "id": "2d2e37ce",
   "metadata": {},
   "source": [
    "## Summary statistics\n",
    "\n",
    "Numeric summary for quick reference."
   ]
  },
  {
   "cell_type": "code",
   "execution_count": 7,
   "id": "89d26d38",
   "metadata": {},
   "outputs": [
    {
     "data": {
      "text/html": [
       "<div>\n",
       "<style scoped>\n",
       "    .dataframe tbody tr th:only-of-type {\n",
       "        vertical-align: middle;\n",
       "    }\n",
       "\n",
       "    .dataframe tbody tr th {\n",
       "        vertical-align: top;\n",
       "    }\n",
       "\n",
       "    .dataframe thead th {\n",
       "        text-align: right;\n",
       "    }\n",
       "</style>\n",
       "<table border=\"1\" class=\"dataframe\">\n",
       "  <thead>\n",
       "    <tr style=\"text-align: right;\">\n",
       "      <th></th>\n",
       "      <th>count</th>\n",
       "      <th>mean</th>\n",
       "      <th>std</th>\n",
       "      <th>min</th>\n",
       "      <th>25%</th>\n",
       "      <th>50%</th>\n",
       "      <th>75%</th>\n",
       "      <th>max</th>\n",
       "    </tr>\n",
       "  </thead>\n",
       "  <tbody>\n",
       "    <tr>\n",
       "      <th>Employee_ID</th>\n",
       "      <td>200.0</td>\n",
       "      <td>1100.50</td>\n",
       "      <td>57.879185</td>\n",
       "      <td>1001.0</td>\n",
       "      <td>1050.75</td>\n",
       "      <td>1100.5</td>\n",
       "      <td>1150.25</td>\n",
       "      <td>1200.0</td>\n",
       "    </tr>\n",
       "    <tr>\n",
       "      <th>Age</th>\n",
       "      <td>200.0</td>\n",
       "      <td>40.17</td>\n",
       "      <td>11.242020</td>\n",
       "      <td>22.0</td>\n",
       "      <td>30.00</td>\n",
       "      <td>41.0</td>\n",
       "      <td>49.00</td>\n",
       "      <td>59.0</td>\n",
       "    </tr>\n",
       "    <tr>\n",
       "      <th>Work_Experience</th>\n",
       "      <td>200.0</td>\n",
       "      <td>18.36</td>\n",
       "      <td>11.657180</td>\n",
       "      <td>0.0</td>\n",
       "      <td>8.00</td>\n",
       "      <td>18.0</td>\n",
       "      <td>28.25</td>\n",
       "      <td>39.0</td>\n",
       "    </tr>\n",
       "    <tr>\n",
       "      <th>Monthly_Salary</th>\n",
       "      <td>200.0</td>\n",
       "      <td>81770.00</td>\n",
       "      <td>18635.005154</td>\n",
       "      <td>38000.0</td>\n",
       "      <td>69000.00</td>\n",
       "      <td>81000.0</td>\n",
       "      <td>94000.00</td>\n",
       "      <td>131000.0</td>\n",
       "    </tr>\n",
       "    <tr>\n",
       "      <th>Performance_Score</th>\n",
       "      <td>200.0</td>\n",
       "      <td>5.39</td>\n",
       "      <td>2.908642</td>\n",
       "      <td>1.0</td>\n",
       "      <td>3.00</td>\n",
       "      <td>5.0</td>\n",
       "      <td>8.00</td>\n",
       "      <td>10.0</td>\n",
       "    </tr>\n",
       "    <tr>\n",
       "      <th>Remote_Work_Percentage</th>\n",
       "      <td>200.0</td>\n",
       "      <td>23.00</td>\n",
       "      <td>28.173012</td>\n",
       "      <td>0.0</td>\n",
       "      <td>0.00</td>\n",
       "      <td>25.0</td>\n",
       "      <td>50.00</td>\n",
       "      <td>100.0</td>\n",
       "    </tr>\n",
       "  </tbody>\n",
       "</table>\n",
       "</div>"
      ],
      "text/plain": [
       "                        count      mean           std      min       25%  \\\n",
       "Employee_ID             200.0   1100.50     57.879185   1001.0   1050.75   \n",
       "Age                     200.0     40.17     11.242020     22.0     30.00   \n",
       "Work_Experience         200.0     18.36     11.657180      0.0      8.00   \n",
       "Monthly_Salary          200.0  81770.00  18635.005154  38000.0  69000.00   \n",
       "Performance_Score       200.0      5.39      2.908642      1.0      3.00   \n",
       "Remote_Work_Percentage  200.0     23.00     28.173012      0.0      0.00   \n",
       "\n",
       "                            50%       75%       max  \n",
       "Employee_ID              1100.5   1150.25    1200.0  \n",
       "Age                        41.0     49.00      59.0  \n",
       "Work_Experience            18.0     28.25      39.0  \n",
       "Monthly_Salary          81000.0  94000.00  131000.0  \n",
       "Performance_Score           5.0      8.00      10.0  \n",
       "Remote_Work_Percentage     25.0     50.00     100.0  "
      ]
     },
     "execution_count": 7,
     "metadata": {},
     "output_type": "execute_result"
    }
   ],
   "source": [
    "df.describe().T"
   ]
  },
  {
   "cell_type": "markdown",
   "id": "2f4ce418",
   "metadata": {},
   "source": [
    "## Encode categorical variables\n",
    "\n",
    "- Order Education_Level (Diploma → Bachelor's → Master's → PhD)\n",
    "- Create dummies for selected categorical columns (drop_first=True to avoid multicollinearity in some models)."
   ]
  },
  {
   "cell_type": "code",
   "execution_count": 8,
   "id": "e6b684e0",
   "metadata": {},
   "outputs": [
    {
     "name": "stdout",
     "output_type": "stream",
     "text": [
      "Categorical columns: ['Job_Title', 'Education_Level', 'Department', 'Gender', 'City']\n"
     ]
    },
    {
     "data": {
      "text/html": [
       "<div>\n",
       "<style scoped>\n",
       "    .dataframe tbody tr th:only-of-type {\n",
       "        vertical-align: middle;\n",
       "    }\n",
       "\n",
       "    .dataframe tbody tr th {\n",
       "        vertical-align: top;\n",
       "    }\n",
       "\n",
       "    .dataframe thead th {\n",
       "        text-align: right;\n",
       "    }\n",
       "</style>\n",
       "<table border=\"1\" class=\"dataframe\">\n",
       "  <thead>\n",
       "    <tr style=\"text-align: right;\">\n",
       "      <th></th>\n",
       "      <th>Employee_ID</th>\n",
       "      <th>Age</th>\n",
       "      <th>Education_Level</th>\n",
       "      <th>Work_Experience</th>\n",
       "      <th>Monthly_Salary</th>\n",
       "      <th>Performance_Score</th>\n",
       "      <th>Remote_Work_Percentage</th>\n",
       "      <th>Job_Title_Consultant</th>\n",
       "      <th>Job_Title_Data Scientist</th>\n",
       "      <th>Job_Title_Engineer</th>\n",
       "      <th>...</th>\n",
       "      <th>Department_IT</th>\n",
       "      <th>Department_Marketing</th>\n",
       "      <th>Department_Operations</th>\n",
       "      <th>Gender_Male</th>\n",
       "      <th>Gender_Other</th>\n",
       "      <th>City_Kisumu</th>\n",
       "      <th>City_Mombasa</th>\n",
       "      <th>City_Nairobi</th>\n",
       "      <th>City_Nakuru</th>\n",
       "      <th>Education_Level_Code</th>\n",
       "    </tr>\n",
       "  </thead>\n",
       "  <tbody>\n",
       "    <tr>\n",
       "      <th>0</th>\n",
       "      <td>1001</td>\n",
       "      <td>50</td>\n",
       "      <td>NaN</td>\n",
       "      <td>9</td>\n",
       "      <td>80000.0</td>\n",
       "      <td>8</td>\n",
       "      <td>25</td>\n",
       "      <td>False</td>\n",
       "      <td>False</td>\n",
       "      <td>False</td>\n",
       "      <td>...</td>\n",
       "      <td>False</td>\n",
       "      <td>True</td>\n",
       "      <td>False</td>\n",
       "      <td>True</td>\n",
       "      <td>False</td>\n",
       "      <td>False</td>\n",
       "      <td>False</td>\n",
       "      <td>False</td>\n",
       "      <td>True</td>\n",
       "      <td>-1</td>\n",
       "    </tr>\n",
       "    <tr>\n",
       "      <th>1</th>\n",
       "      <td>1002</td>\n",
       "      <td>36</td>\n",
       "      <td>NaN</td>\n",
       "      <td>16</td>\n",
       "      <td>69000.0</td>\n",
       "      <td>9</td>\n",
       "      <td>25</td>\n",
       "      <td>False</td>\n",
       "      <td>True</td>\n",
       "      <td>False</td>\n",
       "      <td>...</td>\n",
       "      <td>False</td>\n",
       "      <td>False</td>\n",
       "      <td>True</td>\n",
       "      <td>False</td>\n",
       "      <td>False</td>\n",
       "      <td>False</td>\n",
       "      <td>False</td>\n",
       "      <td>False</td>\n",
       "      <td>False</td>\n",
       "      <td>-1</td>\n",
       "    </tr>\n",
       "    <tr>\n",
       "      <th>2</th>\n",
       "      <td>1003</td>\n",
       "      <td>29</td>\n",
       "      <td>NaN</td>\n",
       "      <td>9</td>\n",
       "      <td>48000.0</td>\n",
       "      <td>3</td>\n",
       "      <td>0</td>\n",
       "      <td>False</td>\n",
       "      <td>False</td>\n",
       "      <td>False</td>\n",
       "      <td>...</td>\n",
       "      <td>False</td>\n",
       "      <td>True</td>\n",
       "      <td>False</td>\n",
       "      <td>False</td>\n",
       "      <td>False</td>\n",
       "      <td>True</td>\n",
       "      <td>False</td>\n",
       "      <td>False</td>\n",
       "      <td>False</td>\n",
       "      <td>-1</td>\n",
       "    </tr>\n",
       "    <tr>\n",
       "      <th>3</th>\n",
       "      <td>1004</td>\n",
       "      <td>42</td>\n",
       "      <td>NaN</td>\n",
       "      <td>16</td>\n",
       "      <td>91000.0</td>\n",
       "      <td>10</td>\n",
       "      <td>0</td>\n",
       "      <td>True</td>\n",
       "      <td>False</td>\n",
       "      <td>False</td>\n",
       "      <td>...</td>\n",
       "      <td>False</td>\n",
       "      <td>False</td>\n",
       "      <td>False</td>\n",
       "      <td>False</td>\n",
       "      <td>False</td>\n",
       "      <td>True</td>\n",
       "      <td>False</td>\n",
       "      <td>False</td>\n",
       "      <td>False</td>\n",
       "      <td>-1</td>\n",
       "    </tr>\n",
       "    <tr>\n",
       "      <th>4</th>\n",
       "      <td>1005</td>\n",
       "      <td>40</td>\n",
       "      <td>NaN</td>\n",
       "      <td>19</td>\n",
       "      <td>64000.0</td>\n",
       "      <td>3</td>\n",
       "      <td>25</td>\n",
       "      <td>False</td>\n",
       "      <td>False</td>\n",
       "      <td>False</td>\n",
       "      <td>...</td>\n",
       "      <td>False</td>\n",
       "      <td>False</td>\n",
       "      <td>False</td>\n",
       "      <td>False</td>\n",
       "      <td>False</td>\n",
       "      <td>False</td>\n",
       "      <td>False</td>\n",
       "      <td>True</td>\n",
       "      <td>False</td>\n",
       "      <td>-1</td>\n",
       "    </tr>\n",
       "  </tbody>\n",
       "</table>\n",
       "<p>5 rows × 22 columns</p>\n",
       "</div>"
      ],
      "text/plain": [
       "   Employee_ID  Age Education_Level  Work_Experience  Monthly_Salary  \\\n",
       "0         1001   50             NaN                9         80000.0   \n",
       "1         1002   36             NaN               16         69000.0   \n",
       "2         1003   29             NaN                9         48000.0   \n",
       "3         1004   42             NaN               16         91000.0   \n",
       "4         1005   40             NaN               19         64000.0   \n",
       "\n",
       "   Performance_Score  Remote_Work_Percentage  Job_Title_Consultant  \\\n",
       "0                  8                      25                 False   \n",
       "1                  9                      25                 False   \n",
       "2                  3                       0                 False   \n",
       "3                 10                       0                  True   \n",
       "4                  3                      25                 False   \n",
       "\n",
       "   Job_Title_Data Scientist  Job_Title_Engineer  ...  Department_IT  \\\n",
       "0                     False               False  ...          False   \n",
       "1                      True               False  ...          False   \n",
       "2                     False               False  ...          False   \n",
       "3                     False               False  ...          False   \n",
       "4                     False               False  ...          False   \n",
       "\n",
       "   Department_Marketing  Department_Operations  Gender_Male  Gender_Other  \\\n",
       "0                  True                  False         True         False   \n",
       "1                 False                   True        False         False   \n",
       "2                  True                  False        False         False   \n",
       "3                 False                  False        False         False   \n",
       "4                 False                  False        False         False   \n",
       "\n",
       "   City_Kisumu  City_Mombasa  City_Nairobi  City_Nakuru  Education_Level_Code  \n",
       "0        False         False         False         True                    -1  \n",
       "1        False         False         False        False                    -1  \n",
       "2         True         False         False        False                    -1  \n",
       "3         True         False         False        False                    -1  \n",
       "4        False         False          True        False                    -1  \n",
       "\n",
       "[5 rows x 22 columns]"
      ]
     },
     "execution_count": 8,
     "metadata": {},
     "output_type": "execute_result"
    }
   ],
   "source": [
    "edu_order = ['Diploma', \"Bachelor's\", \"Master's\", 'PhD']\n",
    "if 'Education_Level' in df.columns:\n",
    "    df['Education_Level'] = pd.Categorical(df['Education_Level'].astype(str).replace({'Bachelors':\"Bachelor's\", 'Masters':\"Master's\"}),\n",
    "                                           categories=edu_order, ordered=True)\n",
    "\n",
    "cat_cols = [c for c in ['Job_Title','Education_Level','Department','Gender','City'] if c in df.columns]\n",
    "print('Categorical columns:', cat_cols)\n",
    "\n",
    "df_encoded = pd.get_dummies(df, columns=[c for c in cat_cols if c!='Education_Level'], drop_first=True)\n",
    "if 'Education_Level' in df.columns:\n",
    "    df_encoded['Education_Level_Code'] = df['Education_Level'].cat.codes\n",
    "\n",
    "df_encoded.head()"
   ]
  },
  {
   "cell_type": "markdown",
   "id": "1eb43432",
   "metadata": {},
   "source": [
    "## Outliers in Monthly_Salary\n",
    "\n",
    "Detect outliers using IQR and create a version with outliers removed for sensitivity analysis."
   ]
  },
  {
   "cell_type": "code",
   "execution_count": 9,
   "id": "3c40fd09",
   "metadata": {},
   "outputs": [
    {
     "name": "stdout",
     "output_type": "stream",
     "text": [
      "Detected outliers: 0\n",
      "Rows after removing outliers: 200\n"
     ]
    }
   ],
   "source": [
    "if 'Monthly_Salary' in df.columns:\n",
    "    s = df['Monthly_Salary'].dropna()\n",
    "    Q1 = s.quantile(0.25)\n",
    "    Q3 = s.quantile(0.75)\n",
    "    IQR = Q3 - Q1\n",
    "    lower = Q1 - 1.5*IQR\n",
    "    upper = Q3 + 1.5*IQR\n",
    "    outliers = df[(df['Monthly_Salary'] < lower) | (df['Monthly_Salary'] > upper)]\n",
    "    print('Detected outliers:', outliers.shape[0])\n",
    "    df_no_outliers = df[(df['Monthly_Salary'] >= lower) & (df['Monthly_Salary'] <= upper)].copy()\n",
    "    print('Rows after removing outliers:', df_no_outliers.shape[0])\n",
    "else:\n",
    "    print('Monthly_Salary column not found')"
   ]
  },
  {
   "cell_type": "markdown",
   "id": "89ef2380",
   "metadata": {},
   "source": [
    "## Average salary per department\n",
    "\n",
    "Bar chart and pie chart for average monthly salary by department."
   ]
  },
  {
   "cell_type": "code",
   "execution_count": 10,
   "id": "aa3db855",
   "metadata": {},
   "outputs": [
    {
     "data": {
      "image/png": "[encoded data removed]",
      "text/plain": [
       "<Figure size 1000x500 with 1 Axes>"
      ]
     },
     "metadata": {},
     "output_type": "display_data"
    },
    {
     "data": {
      "image/png": "[encoded data removed]",
      "text/plain": [
       "<Figure size 700x700 with 1 Axes>"
      ]
     },
     "metadata": {},
     "output_type": "display_data"
    }
   ],
   "source": [
    "if 'Department' in df.columns and 'Monthly_Salary' in df.columns:\n",
    "    avg_by_dept = df.groupby('Department')['Monthly_Salary'].mean().sort_values(ascending=False)\n",
    "    plt.figure(figsize=(10,5))\n",
    "    sns.barplot(x=avg_by_dept.index, y=avg_by_dept.values)\n",
    "    plt.xticks(rotation=45)\n",
    "    plt.ylabel('Average Monthly Salary')\n",
    "    plt.title('Average Salary by Department')\n",
    "    plt.tight_layout()\n",
    "    plt.show()\n",
    "\n",
    "    plt.figure(figsize=(7,7))\n",
    "    avg_by_dept.plot(kind='pie', autopct='%1.1f%%', startangle=90)\n",
    "    plt.ylabel('')\n",
    "    plt.title('Average Salary Share by Department')\n",
    "    plt.show()\n",
    "else:\n",
    "    print('Department or Monthly_Salary column missing')"
   ]
  },
  {
   "cell_type": "markdown",
   "id": "7b57884a",
   "metadata": {},
   "source": [
    "## Education level effect\n",
    "\n",
    "Line plot of average salary (ordered) and boxplot for distribution."
   ]
  },
  {
   "cell_type": "code",
   "execution_count": 11,
   "id": "aa1b6302",
   "metadata": {},
   "outputs": [
    {
     "name": "stderr",
     "output_type": "stream",
     "text": [
      "C:\\Users\\User\\AppData\\Local\\Temp\\ipykernel_13288\\2158827080.py:2: FutureWarning: The default of observed=False is deprecated and will be changed to True in a future version of pandas. Pass observed=False to retain current behavior or observed=True to adopt the future default and silence this warning.\n",
      "  avg_salary_edu = df.groupby('Education_Level')['Monthly_Salary'].mean().reindex(edu_order)\n"
     ]
    },
    {
     "data": {
      "image/png": "[encoded data removed]",
      "text/plain": [
       "<Figure size 800x500 with 1 Axes>"
      ]
     },
     "metadata": {},
     "output_type": "display_data"
    },
    {
     "data": {
      "image/png": "[encoded data removed]",
      "text/plain": [
       "<Figure size 800x500 with 1 Axes>"
      ]
     },
     "metadata": {},
     "output_type": "display_data"
    }
   ],
   "source": [
    "if 'Education_Level' in df.columns and 'Monthly_Salary' in df.columns:\n",
    "    avg_salary_edu = df.groupby('Education_Level')['Monthly_Salary'].mean().reindex(edu_order)\n",
    "    plt.figure(figsize=(8,5))\n",
    "    sns.lineplot(x=avg_salary_edu.index, y=avg_salary_edu.values, marker='o')\n",
    "    plt.title('Average Monthly Salary by Education Level')\n",
    "    plt.xlabel('Education Level')\n",
    "    plt.ylabel('Average Monthly Salary')\n",
    "    plt.grid(True)\n",
    "    plt.show()\n",
    "\n",
    "    plt.figure(figsize=(8,5))\n",
    "    sns.boxplot(x='Education_Level', y='Monthly_Salary', data=df)\n",
    "    plt.title('Salary Distribution by Education Level')\n",
    "    plt.show()\n",
    "else:\n",
    "    print('Education_Level or Monthly_Salary column missing')"
   ]
  },
  {
   "cell_type": "markdown",
   "id": "8ac327b4",
   "metadata": {},
   "source": [
    "## Work experience vs salary\n",
    "\n",
    "Scatter plot and Pearson correlation."
   ]
  },
  {
   "cell_type": "code",
   "execution_count": 12,
   "id": "a3866869",
   "metadata": {},
   "outputs": [
    {
     "data": {
      "image/png": "[encoded data removed]",
      "text/plain": [
       "<Figure size 800x500 with 1 Axes>"
      ]
     },
     "metadata": {},
     "output_type": "display_data"
    },
    {
     "name": "stdout",
     "output_type": "stream",
     "text": [
      "Pearson r = 0.047\n"
     ]
    }
   ],
   "source": [
    "if 'Work_Experience' in df.columns and 'Monthly_Salary' in df.columns:\n",
    "    plt.figure(figsize=(8,5))\n",
    "    sns.scatterplot(x='Work_Experience', y='Monthly_Salary', data=df)\n",
    "    plt.title('Work Experience vs Monthly Salary')\n",
    "    plt.show()\n",
    "    corr = df['Work_Experience'].corr(df['Monthly_Salary'])\n",
    "    print('Pearson r =', round(corr,3))\n",
    "else:\n",
    "    print('Work_Experience or Monthly_Salary column missing')"
   ]
  },
  {
   "cell_type": "markdown",
   "id": "b506959f",
   "metadata": {},
   "source": [
    "## Gender impact on salary\n",
    "\n",
    "Compare average salaries and run t-test if two groups."
   ]
  },
  {
   "cell_type": "code",
   "execution_count": 13,
   "id": "5cda5c32",
   "metadata": {},
   "outputs": [
    {
     "data": {
      "text/html": [
       "<div>\n",
       "<style scoped>\n",
       "    .dataframe tbody tr th:only-of-type {\n",
       "        vertical-align: middle;\n",
       "    }\n",
       "\n",
       "    .dataframe tbody tr th {\n",
       "        vertical-align: top;\n",
       "    }\n",
       "\n",
       "    .dataframe thead th {\n",
       "        text-align: right;\n",
       "    }\n",
       "</style>\n",
       "<table border=\"1\" class=\"dataframe\">\n",
       "  <thead>\n",
       "    <tr style=\"text-align: right;\">\n",
       "      <th></th>\n",
       "      <th>count</th>\n",
       "      <th>mean</th>\n",
       "      <th>median</th>\n",
       "      <th>std</th>\n",
       "    </tr>\n",
       "    <tr>\n",
       "      <th>Gender</th>\n",
       "      <th></th>\n",
       "      <th></th>\n",
       "      <th></th>\n",
       "      <th></th>\n",
       "    </tr>\n",
       "  </thead>\n",
       "  <tbody>\n",
       "    <tr>\n",
       "      <th>Female</th>\n",
       "      <td>92</td>\n",
       "      <td>83239.130435</td>\n",
       "      <td>82500.0</td>\n",
       "      <td>18135.854576</td>\n",
       "    </tr>\n",
       "    <tr>\n",
       "      <th>Male</th>\n",
       "      <td>96</td>\n",
       "      <td>79229.166667</td>\n",
       "      <td>78000.0</td>\n",
       "      <td>19115.427314</td>\n",
       "    </tr>\n",
       "    <tr>\n",
       "      <th>Other</th>\n",
       "      <td>12</td>\n",
       "      <td>90833.333333</td>\n",
       "      <td>89500.0</td>\n",
       "      <td>15543.682337</td>\n",
       "    </tr>\n",
       "  </tbody>\n",
       "</table>\n",
       "</div>"
      ],
      "text/plain": [
       "        count          mean   median           std\n",
       "Gender                                            \n",
       "Female     92  83239.130435  82500.0  18135.854576\n",
       "Male       96  79229.166667  78000.0  19115.427314\n",
       "Other      12  90833.333333  89500.0  15543.682337"
      ]
     },
     "metadata": {},
     "output_type": "display_data"
    }
   ],
   "source": [
    "if 'Gender' in df.columns and 'Monthly_Salary' in df.columns:\n",
    "    avg_gender = df.groupby('Gender')['Monthly_Salary'].agg(['count','mean','median','std'])\n",
    "    display(avg_gender)\n",
    "    unique_genders = df['Gender'].dropna().unique()\n",
    "    if len(unique_genders)==2:\n",
    "        g1 = df[df['Gender']==unique_genders[0]]['Monthly_Salary'].dropna()\n",
    "        g2 = df[df['Gender']==unique_genders[1]]['Monthly_Salary'].dropna()\n",
    "        tstat, pval = stats.ttest_ind(g1, g2, equal_var=False)\n",
    "        print('T-test: t=',round(tstat,3),' p=',round(pval,4))\n",
    "else:\n",
    "    print('Gender or Monthly_Salary column missing')"
   ]
  },
  {
   "cell_type": "markdown",
   "id": "129fa905",
   "metadata": {},
   "source": [
    "## Department remote-work proportion\n",
    "\n",
    "Identify department with highest proportion of remote workers (if column present)."
   ]
  },
  {
   "cell_type": "code",
   "execution_count": 14,
   "id": "bad0432f",
   "metadata": {},
   "outputs": [
    {
     "data": {
      "text/plain": [
       "Department\n",
       "Finance       0.0\n",
       "HR            0.0\n",
       "IT            0.0\n",
       "Marketing     0.0\n",
       "Operations    0.0\n",
       "Name: is_remote, dtype: float64"
      ]
     },
     "metadata": {},
     "output_type": "display_data"
    },
    {
     "name": "stdout",
     "output_type": "stream",
     "text": [
      "\n",
      "Top remote department: Finance\n"
     ]
    }
   ],
   "source": [
    "remote_col = next((c for c in df.columns if 'remote' in c.lower()), None)\n",
    "if remote_col:\n",
    "    df['is_remote'] = df[remote_col].astype(str).str.lower().map(lambda x: 1 if x in ['yes','true','1','y','remote'] else 0)\n",
    "    prop = df.groupby('Department')['is_remote'].mean().sort_values(ascending=False)\n",
    "    display(prop)\n",
    "    print('\\nTop remote department:', prop.idxmax())\n",
    "else:\n",
    "    print('No remote-work column found')"
   ]
  },
  {
   "cell_type": "markdown",
   "id": "a174ef96",
   "metadata": {},
   "source": [
    "## ANOVA tests (statsmodels OLS)\n",
    "\n",
    "Run one-way ANOVA for Work Experience (binned) and Education Level, and two-way ANOVA for interaction."
   ]
  },
  {
   "cell_type": "code",
   "execution_count": 15,
   "id": "9c6e954c",
   "metadata": {},
   "outputs": [
    {
     "data": {
      "text/html": [
       "<div>\n",
       "<style scoped>\n",
       "    .dataframe tbody tr th:only-of-type {\n",
       "        vertical-align: middle;\n",
       "    }\n",
       "\n",
       "    .dataframe tbody tr th {\n",
       "        vertical-align: top;\n",
       "    }\n",
       "\n",
       "    .dataframe thead th {\n",
       "        text-align: right;\n",
       "    }\n",
       "</style>\n",
       "<table border=\"1\" class=\"dataframe\">\n",
       "  <thead>\n",
       "    <tr style=\"text-align: right;\">\n",
       "      <th></th>\n",
       "      <th>sum_sq</th>\n",
       "      <th>df</th>\n",
       "      <th>F</th>\n",
       "      <th>PR(&gt;F)</th>\n",
       "    </tr>\n",
       "  </thead>\n",
       "  <tbody>\n",
       "    <tr>\n",
       "      <th>C(WorkExpBin)</th>\n",
       "      <td>5.043755e+08</td>\n",
       "      <td>3.0</td>\n",
       "      <td>0.48035</td>\n",
       "      <td>0.696318</td>\n",
       "    </tr>\n",
       "    <tr>\n",
       "      <th>Residual</th>\n",
       "      <td>6.860104e+10</td>\n",
       "      <td>196.0</td>\n",
       "      <td>NaN</td>\n",
       "      <td>NaN</td>\n",
       "    </tr>\n",
       "  </tbody>\n",
       "</table>\n",
       "</div>"
      ],
      "text/plain": [
       "                     sum_sq     df        F    PR(>F)\n",
       "C(WorkExpBin)  5.043755e+08    3.0  0.48035  0.696318\n",
       "Residual       6.860104e+10  196.0      NaN       NaN"
      ]
     },
     "metadata": {},
     "output_type": "display_data"
    },
    {
     "name": "stderr",
     "output_type": "stream",
     "text": [
      "C:\\Users\\User\\anaconda3\\Lib\\site-packages\\statsmodels\\base\\model.py:1894: ValueWarning: covariance of constraints does not have full rank. The number of constraints is 3, but rank is 1\n",
      "  warnings.warn('covariance of constraints does not have full '\n"
     ]
    },
    {
     "data": {
      "text/html": [
       "<div>\n",
       "<style scoped>\n",
       "    .dataframe tbody tr th:only-of-type {\n",
       "        vertical-align: middle;\n",
       "    }\n",
       "\n",
       "    .dataframe tbody tr th {\n",
       "        vertical-align: top;\n",
       "    }\n",
       "\n",
       "    .dataframe thead th {\n",
       "        text-align: right;\n",
       "    }\n",
       "</style>\n",
       "<table border=\"1\" class=\"dataframe\">\n",
       "  <thead>\n",
       "    <tr style=\"text-align: right;\">\n",
       "      <th></th>\n",
       "      <th>sum_sq</th>\n",
       "      <th>df</th>\n",
       "      <th>F</th>\n",
       "      <th>PR(&gt;F)</th>\n",
       "    </tr>\n",
       "  </thead>\n",
       "  <tbody>\n",
       "    <tr>\n",
       "      <th>C(Education_Level)</th>\n",
       "      <td>1.345732e+09</td>\n",
       "      <td>3.0</td>\n",
       "      <td>1.503282</td>\n",
       "      <td>0.225587</td>\n",
       "    </tr>\n",
       "    <tr>\n",
       "      <th>Residual</th>\n",
       "      <td>1.581513e+10</td>\n",
       "      <td>53.0</td>\n",
       "      <td>NaN</td>\n",
       "      <td>NaN</td>\n",
       "    </tr>\n",
       "  </tbody>\n",
       "</table>\n",
       "</div>"
      ],
      "text/plain": [
       "                          sum_sq    df         F    PR(>F)\n",
       "C(Education_Level)  1.345732e+09   3.0  1.503282  0.225587\n",
       "Residual            1.581513e+10  53.0       NaN       NaN"
      ]
     },
     "metadata": {},
     "output_type": "display_data"
    },
    {
     "name": "stderr",
     "output_type": "stream",
     "text": [
      "C:\\Users\\User\\anaconda3\\Lib\\site-packages\\statsmodels\\base\\model.py:1894: ValueWarning: covariance of constraints does not have full rank. The number of constraints is 3, but rank is 0\n",
      "  warnings.warn('covariance of constraints does not have full '\n",
      "C:\\Users\\User\\anaconda3\\Lib\\site-packages\\statsmodels\\base\\model.py:1923: RuntimeWarning: invalid value encountered in divide\n",
      "  F /= J\n",
      "C:\\Users\\User\\anaconda3\\Lib\\site-packages\\statsmodels\\base\\model.py:1894: ValueWarning: covariance of constraints does not have full rank. The number of constraints is 3, but rank is 0\n",
      "  warnings.warn('covariance of constraints does not have full '\n",
      "C:\\Users\\User\\anaconda3\\Lib\\site-packages\\statsmodels\\base\\model.py:1894: ValueWarning: covariance of constraints does not have full rank. The number of constraints is 9, but rank is 2\n",
      "  warnings.warn('covariance of constraints does not have full '\n"
     ]
    },
    {
     "data": {
      "text/html": [
       "<div>\n",
       "<style scoped>\n",
       "    .dataframe tbody tr th:only-of-type {\n",
       "        vertical-align: middle;\n",
       "    }\n",
       "\n",
       "    .dataframe tbody tr th {\n",
       "        vertical-align: top;\n",
       "    }\n",
       "\n",
       "    .dataframe thead th {\n",
       "        text-align: right;\n",
       "    }\n",
       "</style>\n",
       "<table border=\"1\" class=\"dataframe\">\n",
       "  <thead>\n",
       "    <tr style=\"text-align: right;\">\n",
       "      <th></th>\n",
       "      <th>sum_sq</th>\n",
       "      <th>df</th>\n",
       "      <th>F</th>\n",
       "      <th>PR(&gt;F)</th>\n",
       "    </tr>\n",
       "  </thead>\n",
       "  <tbody>\n",
       "    <tr>\n",
       "      <th>C(Education_Level)</th>\n",
       "      <td>NaN</td>\n",
       "      <td>3.0</td>\n",
       "      <td>NaN</td>\n",
       "      <td>NaN</td>\n",
       "    </tr>\n",
       "    <tr>\n",
       "      <th>C(WorkExpBin)</th>\n",
       "      <td>NaN</td>\n",
       "      <td>3.0</td>\n",
       "      <td>NaN</td>\n",
       "      <td>NaN</td>\n",
       "    </tr>\n",
       "    <tr>\n",
       "      <th>C(Education_Level):C(WorkExpBin)</th>\n",
       "      <td>1.112128e+09</td>\n",
       "      <td>9.0</td>\n",
       "      <td>0.393129</td>\n",
       "      <td>0.677095</td>\n",
       "    </tr>\n",
       "    <tr>\n",
       "      <th>Residual</th>\n",
       "      <td>1.508754e+10</td>\n",
       "      <td>48.0</td>\n",
       "      <td>NaN</td>\n",
       "      <td>NaN</td>\n",
       "    </tr>\n",
       "  </tbody>\n",
       "</table>\n",
       "</div>"
      ],
      "text/plain": [
       "                                        sum_sq    df         F    PR(>F)\n",
       "C(Education_Level)                         NaN   3.0       NaN       NaN\n",
       "C(WorkExpBin)                              NaN   3.0       NaN       NaN\n",
       "C(Education_Level):C(WorkExpBin)  1.112128e+09   9.0  0.393129  0.677095\n",
       "Residual                          1.508754e+10  48.0       NaN       NaN"
      ]
     },
     "metadata": {},
     "output_type": "display_data"
    }
   ],
   "source": [
    "bins = [-1,2,5,10,100]\n",
    "labels = ['0-2','3-5','6-10','10+']\n",
    "if 'Work_Experience' in df.columns:\n",
    "    df['WorkExpBin'] = pd.cut(df['Work_Experience'], bins=bins, labels=labels)\n",
    "\n",
    "if 'WorkExpBin' in df.columns:\n",
    "    model_exp = ols('Monthly_Salary ~ C(WorkExpBin)', data=df).fit()\n",
    "    display(sm.stats.anova_lm(model_exp, typ=2))\n",
    "\n",
    "if 'Education_Level' in df.columns:\n",
    "    model_edu = ols('Monthly_Salary ~ C(Education_Level)', data=df).fit()\n",
    "    display(sm.stats.anova_lm(model_edu, typ=2))\n",
    "\n",
    "if 'WorkExpBin' in df.columns and 'Education_Level' in df.columns:\n",
    "    model_int = ols('Monthly_Salary ~ C(Education_Level)*C(WorkExpBin)', data=df).fit()\n",
    "    display(sm.stats.anova_lm(model_int, typ=2))\n",
    "else:\n",
    "    print('Missing columns for two-way ANOVA')"
   ]
  },
  {
   "cell_type": "markdown",
   "id": "71d97e12",
   "metadata": {},
   "source": [
    "## OLS Regression: key predictors\n",
    "\n",
    "Fit a simple OLS regression with numeric predictors and categorical factors to identify key factors influencing salary."
   ]
  },
  {
   "cell_type": "code",
   "execution_count": 16,
   "id": "be979afe",
   "metadata": {},
   "outputs": [
    {
     "name": "stdout",
     "output_type": "stream",
     "text": [
      "Formula: Monthly_Salary ~ Work_Experience + Performance_Score + Age + C(Department_top)\n",
      "                            OLS Regression Results                            \n",
      "==============================================================================\n",
      "Dep. Variable:         Monthly_Salary   R-squared:                       0.053\n",
      "Model:                            OLS   Adj. R-squared:                  0.018\n",
      "Method:                 Least Squares   F-statistic:                     1.528\n",
      "Date:                Fri, 31 Oct 2025   Prob (F-statistic):              0.160\n",
      "Time:                        10:59:17   Log-Likelihood:                -2244.4\n",
      "No. Observations:                 200   AIC:                             4505.\n",
      "Df Residuals:                     192   BIC:                             4531.\n",
      "Df Model:                           7                                         \n",
      "Covariance Type:            nonrobust                                         \n",
      "===================================================================================================\n",
      "                                      coef    std err          t      P>|t|      [0.025      0.975]\n",
      "---------------------------------------------------------------------------------------------------\n",
      "Intercept                        8.486e+04   6320.389     13.426      0.000    7.24e+04    9.73e+04\n",
      "C(Department_top)[T.HR]          1675.0206   3921.840      0.427      0.670   -6060.403    9410.444\n",
      "C(Department_top)[T.IT]          3760.6198   3972.406      0.947      0.345   -4074.540    1.16e+04\n",
      "C(Department_top)[T.Marketing]   8624.2622   4227.805      2.040      0.043     285.353     1.7e+04\n",
      "C(Department_top)[T.Operations]  -467.5832   3929.368     -0.119      0.905   -8217.854    7282.688\n",
      "Work_Experience                    66.1735    112.515      0.588      0.557    -155.750     288.097\n",
      "Performance_Score                 405.6754    455.632      0.890      0.374    -493.012    1304.363\n",
      "Age                              -219.1216    117.277     -1.868      0.063    -450.438      12.195\n",
      "==============================================================================\n",
      "Omnibus:                        0.155   Durbin-Watson:                   1.820\n",
      "Prob(Omnibus):                  0.925   Jarque-Bera (JB):                0.193\n",
      "Skew:                          -0.066   Prob(JB):                        0.908\n",
      "Kurtosis:                       2.924   Cond. No.                         254.\n",
      "==============================================================================\n",
      "\n",
      "Notes:\n",
      "[1] Standard Errors assume that the covariance matrix of the errors is correctly specified.\n"
     ]
    }
   ],
   "source": [
    "model_df = df.copy()\n",
    "predictors = []\n",
    "for c in ['Work_Experience','Performance_Score','Age','Education_Level_Code']:\n",
    "    if c in model_df.columns:\n",
    "        predictors.append(c)\n",
    "if 'Department' in model_df.columns:\n",
    "    top_depts = model_df['Department'].value_counts().nlargest(5).index.tolist()\n",
    "    model_df['Department_top'] = model_df['Department'].where(model_df['Department'].isin(top_depts), 'Other')\n",
    "    predictors.append('C(Department_top)')\n",
    "\n",
    "formula = 'Monthly_Salary ~ ' + ' + '.join(predictors)\n",
    "print('Formula:', formula)\n",
    "try:\n",
    "    reg = ols(formula, data=model_df.dropna(subset=['Monthly_Salary'] + [p for p in predictors if not p.startswith('C(')])).fit()\n",
    "    print(reg.summary())\n",
    "except Exception as e:\n",
    "    print('Regression failed:', e)"
   ]
  },
  {
   "cell_type": "markdown",
   "id": "cf7a584f",
   "metadata": {},
   "source": [
    "## Practice: Predictive model (Linear Regression)\n",
    "\n",
    "A basic regression using numeric features to predict Monthly_Salary. This is a simple baseline model for practice."
   ]
  },
  {
   "cell_type": "code",
   "execution_count": 17,
   "id": "de8f66e9",
   "metadata": {},
   "outputs": [
    {
     "ename": "TypeError",
     "evalue": "got an unexpected keyword argument 'squared'",
     "output_type": "error",
     "traceback": [
      "\u001b[1;31m---------------------------------------------------------------------------\u001b[0m",
      "\u001b[1;31mTypeError\u001b[0m                                 Traceback (most recent call last)",
      "Cell \u001b[1;32mIn[17], line 13\u001b[0m\n\u001b[0;32m     11\u001b[0m     lr\u001b[38;5;241m.\u001b[39mfit(X_train, y_train)\n\u001b[0;32m     12\u001b[0m     preds \u001b[38;5;241m=\u001b[39m lr\u001b[38;5;241m.\u001b[39mpredict(X_test)\n\u001b[1;32m---> 13\u001b[0m     \u001b[38;5;28mprint\u001b[39m(\u001b[38;5;124m'\u001b[39m\u001b[38;5;124mRMSE:\u001b[39m\u001b[38;5;124m'\u001b[39m, mean_squared_error(y_test, preds, squared\u001b[38;5;241m=\u001b[39m\u001b[38;5;28;01mFalse\u001b[39;00m))\n\u001b[0;32m     14\u001b[0m     \u001b[38;5;28mprint\u001b[39m(\u001b[38;5;124m'\u001b[39m\u001b[38;5;124mR2:\u001b[39m\u001b[38;5;124m'\u001b[39m, r2_score(y_test, preds))\n\u001b[0;32m     15\u001b[0m \u001b[38;5;28;01melse\u001b[39;00m:\n",
      "File \u001b[1;32m~\\anaconda3\\Lib\\site-packages\\sklearn\\utils\\_param_validation.py:194\u001b[0m, in \u001b[0;36mvalidate_params.<locals>.decorator.<locals>.wrapper\u001b[1;34m(*args, **kwargs)\u001b[0m\n\u001b[0;32m    191\u001b[0m func_sig \u001b[38;5;241m=\u001b[39m signature(func)\n\u001b[0;32m    193\u001b[0m \u001b[38;5;66;03m# Map *args/**kwargs to the function signature\u001b[39;00m\n\u001b[1;32m--> 194\u001b[0m params \u001b[38;5;241m=\u001b[39m func_sig\u001b[38;5;241m.\u001b[39mbind(\u001b[38;5;241m*\u001b[39margs, \u001b[38;5;241m*\u001b[39m\u001b[38;5;241m*\u001b[39mkwargs)\n\u001b[0;32m    195\u001b[0m params\u001b[38;5;241m.\u001b[39mapply_defaults()\n\u001b[0;32m    197\u001b[0m \u001b[38;5;66;03m# ignore self/cls and positional/keyword markers\u001b[39;00m\n",
      "File \u001b[1;32m~\\anaconda3\\Lib\\inspect.py:3295\u001b[0m, in \u001b[0;36mSignature.bind\u001b[1;34m(self, *args, **kwargs)\u001b[0m\n\u001b[0;32m   3290\u001b[0m \u001b[38;5;28;01mdef\u001b[39;00m\u001b[38;5;250m \u001b[39m\u001b[38;5;21mbind\u001b[39m(\u001b[38;5;28mself\u001b[39m, \u001b[38;5;241m/\u001b[39m, \u001b[38;5;241m*\u001b[39margs, \u001b[38;5;241m*\u001b[39m\u001b[38;5;241m*\u001b[39mkwargs):\n\u001b[0;32m   3291\u001b[0m \u001b[38;5;250m    \u001b[39m\u001b[38;5;124;03m\"\"\"Get a BoundArguments object, that maps the passed `args`\u001b[39;00m\n\u001b[0;32m   3292\u001b[0m \u001b[38;5;124;03m    and `kwargs` to the function's signature.  Raises `TypeError`\u001b[39;00m\n\u001b[0;32m   3293\u001b[0m \u001b[38;5;124;03m    if the passed arguments can not be bound.\u001b[39;00m\n\u001b[0;32m   3294\u001b[0m \u001b[38;5;124;03m    \"\"\"\u001b[39;00m\n\u001b[1;32m-> 3295\u001b[0m     \u001b[38;5;28;01mreturn\u001b[39;00m \u001b[38;5;28mself\u001b[39m\u001b[38;5;241m.\u001b[39m_bind(args, kwargs)\n",
      "File \u001b[1;32m~\\anaconda3\\Lib\\inspect.py:3284\u001b[0m, in \u001b[0;36mSignature._bind\u001b[1;34m(self, args, kwargs, partial)\u001b[0m\n\u001b[0;32m   3274\u001b[0m         \u001b[38;5;28;01mraise\u001b[39;00m \u001b[38;5;167;01mTypeError\u001b[39;00m(\n\u001b[0;32m   3275\u001b[0m             \u001b[38;5;124m'\u001b[39m\u001b[38;5;124mgot some positional-only arguments passed as \u001b[39m\u001b[38;5;124m'\u001b[39m\n\u001b[0;32m   3276\u001b[0m             \u001b[38;5;124m'\u001b[39m\u001b[38;5;124mkeyword arguments: \u001b[39m\u001b[38;5;132;01m{arg!r}\u001b[39;00m\u001b[38;5;124m'\u001b[39m\u001b[38;5;241m.\u001b[39mformat(\n\u001b[1;32m   (...)\u001b[0m\n\u001b[0;32m   3281\u001b[0m             ),\n\u001b[0;32m   3282\u001b[0m         )\n\u001b[0;32m   3283\u001b[0m     \u001b[38;5;28;01melse\u001b[39;00m:\n\u001b[1;32m-> 3284\u001b[0m         \u001b[38;5;28;01mraise\u001b[39;00m \u001b[38;5;167;01mTypeError\u001b[39;00m(\n\u001b[0;32m   3285\u001b[0m             \u001b[38;5;124m'\u001b[39m\u001b[38;5;124mgot an unexpected keyword argument \u001b[39m\u001b[38;5;132;01m{arg!r}\u001b[39;00m\u001b[38;5;124m'\u001b[39m\u001b[38;5;241m.\u001b[39mformat(\n\u001b[0;32m   3286\u001b[0m                 arg\u001b[38;5;241m=\u001b[39m\u001b[38;5;28mnext\u001b[39m(\u001b[38;5;28miter\u001b[39m(kwargs))))\n\u001b[0;32m   3288\u001b[0m \u001b[38;5;28;01mreturn\u001b[39;00m \u001b[38;5;28mself\u001b[39m\u001b[38;5;241m.\u001b[39m_bound_arguments_cls(\u001b[38;5;28mself\u001b[39m, arguments)\n",
      "\u001b[1;31mTypeError\u001b[0m: got an unexpected keyword argument 'squared'"
     ]
    }
   ],
   "source": [
    "ml_df = df_encoded.copy()\n",
    "if 'Monthly_Salary' in ml_df.columns:\n",
    "    X = ml_df.select_dtypes(include=[np.number]).drop(columns=['Monthly_Salary'], errors='ignore')\n",
    "    y = ml_df['Monthly_Salary']\n",
    "    X = X.loc[:, X.columns.str.contains('Education_Level_Code|Work_Experience|Performance_Score|Age|Department_top')]\n",
    "    if X.shape[1] == 0:\n",
    "        X = ml_df.select_dtypes(include=[np.number]).drop(columns=['Monthly_Salary'], errors='ignore').iloc[:,:5]\n",
    "    X = X.fillna(0)\n",
    "    X_train, X_test, y_train, y_test = train_test_split(X, y, test_size=0.2, random_state=42)\n",
    "    lr = LinearRegression()\n",
    "    lr.fit(X_train, y_train)\n",
    "    preds = lr.predict(X_test)\n",
    "    print('RMSE:', mean_squared_error(y_test, preds, squared=False))\n",
    "    print('R2:', r2_score(y_test, preds))\n",
    "else:\n",
    "    print('Monthly_Salary not in data for ML practice')"
   ]
  },
  {
   "cell_type": "markdown",
   "id": "50689d47",
   "metadata": {},
   "source": [
    "## Save cleaned dataset and outputs\n",
    "\n",
    "Save a cleaned CSV and model summary for inclusion in the repo outputs/ folder."
   ]
  },
  {
   "cell_type": "code",
   "execution_count": 18,
   "id": "81608bfc",
   "metadata": {},
   "outputs": [
    {
     "name": "stdout",
     "output_type": "stream",
     "text": [
      "Cleaned dataset saved to /mnt/data/analysis_outputs\\employee_cleaned.csv\n",
      "ANOVA results saved to /mnt/data/analysis_outputs\\anova_results.txt\n"
     ]
    },
    {
     "name": "stderr",
     "output_type": "stream",
     "text": [
      "C:\\Users\\User\\anaconda3\\Lib\\site-packages\\statsmodels\\base\\model.py:1894: ValueWarning: covariance of constraints does not have full rank. The number of constraints is 3, but rank is 1\n",
      "  warnings.warn('covariance of constraints does not have full '\n"
     ]
    }
   ],
   "source": [
    "out_dir = '/mnt/data/analysis_outputs'\n",
    "import os\n",
    "os.makedirs(out_dir, exist_ok=True)\n",
    "clean_path = os.path.join(out_dir, 'employee_cleaned.csv')\n",
    "df.to_csv(clean_path, index=False)\n",
    "print('Cleaned dataset saved to', clean_path)\n",
    "\n",
    "try:\n",
    "    anova_path = os.path.join(out_dir, 'anova_results.txt')\n",
    "    with open(anova_path, 'w') as f:\n",
    "        if 'model_exp' in globals():\n",
    "            f.write(str(sm.stats.anova_lm(model_exp, typ=2)))\n",
    "        if 'model_edu' in globals():\n",
    "            f.write('\\n\\n')\n",
    "            f.write(str(sm.stats.anova_lm(model_edu, typ=2)))\n",
    "    print('ANOVA results saved to', anova_path)\n",
    "except Exception as e:\n",
    "    print('Failed to save ANOVA results:', e)"
   ]
  }
 ],
 "metadata": {
  "kernelspec": {
   "display_name": "Python [conda env:base] *",
   "language": "python",
   "name": "conda-base-py"
  },
  "language_info": {
   "codemirror_mode": {
    "name": "ipython",
    "version": 3
   },
   "file_extension": ".py",
   "mimetype": "text/x-python",
   "name": "python",
   "nbconvert_exporter": "python",
   "pygments_lexer": "ipython3",
   "version": "3.13.5"
  }
 },
 "nbformat": 4,
 "nbformat_minor": 5
}
