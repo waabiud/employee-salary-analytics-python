{
 "cells": [
  {
   "cell_type": "markdown",
   "metadata": {},
   "source": [
    "# Employee Salary Data Analysis"
   ]
  },
  {
   "cell_type": "code",
   "execution_count": null,
   "metadata": {},
   "outputs": [],
   "source": [
    "import pandas as pd\n",
    "import numpy as np\n",
    "import seaborn as sns\n",
    "import matplotlib.pyplot as plt\n",
    "import statsmodels.api as sm\n",
    "from statsmodels.formula.api import ols\n",
    "\n",
    "df = pd.read_csv('employee_salary_data.csv')\n",
    "df.head()"
   ]
  },
  {
   "cell_type": "markdown",
   "metadata": {},
   "source": [
    "## Data Cleaning"
   ]
  },
  {
   "cell_type": "code",
   "execution_count": null,
   "metadata": {},
   "outputs": [],
   "source": [
    "df.drop_duplicates(inplace=True)\n",
    "df.dropna(inplace=True)\n",
    "df.reset_index(drop=True, inplace=True)"
   ]
  },
  {
   "cell_type": "markdown",
   "metadata": {},
   "source": [
    "## Convert Categorical Variables"
   ]
  },
  {
   "cell_type": "code",
   "execution_count": null,
   "metadata": {},
   "outputs": [],
   "source": [
    "categorical_cols = ['Job_Title', 'Education_Level', 'Department', 'Gender']\n",
    "for col in categorical_cols:\n",
    "    if col in df.columns:\n",
    "        df[col] = df[col].astype('category')\n",
    "\n",
    "df_encoded = pd.get_dummies(df, drop_first=True)"
   ]
  },
  {
   "cell_type": "markdown",
   "metadata": {},
   "source": [
    "## Outlier Detection in Monthly Salary"
   ]
  },
  {
   "cell_type": "code",
   "execution_count": null,
   "metadata": {},
   "outputs": [],
   "source": [
    "Q1 = df['Monthly_Salary'].quantile(0.25)\n",
    "Q3 = df['Monthly_Salary'].quantile(0.75)\n",
    "IQR = Q3 - Q1\n",
    "lower = Q1 - 1.5 * IQR\n",
    "upper = Q3 + 1.5 * IQR\n",
    "df = df[(df['Monthly_Salary'] >= lower) & (df['Monthly_Salary'] <= upper)]"
   ]
  },
  {
   "cell_type": "markdown",
   "metadata": {},
   "source": [
    "## Education Level vs Salary"
   ]
  },
  {
   "cell_type": "code",
   "execution_count": null,
   "metadata": {},
   "outputs": [],
   "source": [
    "edu_order = ['Diploma', 'Bachelor', 'Master', 'PhD']\n",
    "df['Education_Level'] = pd.Categorical(df['Education_Level'], categories=edu_order, ordered=True)\n",
    "dataset_avg = df.groupby('Education_Level')['Monthly_Salary'].mean().reset_index()\n",
    "\n",
    "plt.figure(figsize=(8,5))\n",
    "sns.lineplot(x='Education_Level', y='Monthly_Salary', data=dataset_avg, marker='o')\n",
    "plt.title('Average Monthly Salary by Education Level')\n",
    "plt.xlabel('Education Level')\n",
    "plt.ylabel('Average Monthly Salary')\n",
    "plt.grid()\n",
    "plt.show()"
   ]
  },
  {
   "cell_type": "markdown",
   "metadata": {},
   "source": [
    "## Work Experience vs Salary"
   ]
  },
  {
   "cell_type": "code",
   "execution_count": null,
   "metadata": {},
   "outputs": [],
   "source": [
    "plt.figure(figsize=(8,5))\n",
    "plt.scatter(df['Work_Experience'], df['Monthly_Salary'], color='teal')\n",
    "plt.title('Work Experience vs Monthly Salary')\n",
    "plt.xlabel('Work Experience (Years)')\n",
    "plt.ylabel('Monthly Salary')\n",
    "plt.grid(True)\n",
    "plt.show()"
   ]
  },
  {
   "cell_type": "markdown",
   "metadata": {},
   "source": [
    "## Salary Comparison by Gender"
   ]
  },
  {
   "cell_type": "code",
   "execution_count": null,
   "metadata": {},
   "outputs": [],
   "source": [
    "gender_salary = df.groupby('Gender')['Monthly_Salary'].mean()\n",
    "gender_salary.plot(kind='bar', color=['lightblue', 'pink', 'gray'])\n",
    "plt.title('Average Monthly Salary by Gender')\n",
    "plt.ylabel('Average Salary')\n",
    "plt.show()"
   ]
  },
  {
   "cell_type": "markdown",
   "metadata": {},
   "source": [
    "## Department with Highest Remote Workers"
   ]
  },
  {
   "cell_type": "code",
   "execution_count": null,
   "metadata": {},
   "outputs": [],
   "source": [
    "remote_avg = df.groupby('Department')['Remote_Work_Percentage'].mean().sort_values(ascending=False)\n",
    "remote_avg.plot(kind='bar', color='skyblue')\n",
    "plt.title('Average Remote Work Percentage per Department')\n",
    "plt.ylabel('Average Remote Work (%)')\n",
    "plt.show()"
   ]
  },
  {
   "cell_type": "markdown",
   "metadata": {},
   "source": [
    "## ANOVA Tests"
   ]
  },
  {
   "cell_type": "code",
   "execution_count": null,
   "metadata": {},
   "outputs": [],
   "source": [
    "anova1 = ols('Monthly_Salary ~ Work_Experience', data=df).fit()\n",
    "anova1_table = sm.stats.anova_lm(anova1, type=2)\n",
    "print(anova1_table)\n",
    "\n",
    "anova2 = ols('Monthly_Salary ~ Education_Level', data=df).fit()\n",
    "anova2_table = sm.stats.anova_lm(anova2, type=2)\n",
    "print(anova2_table)\n",
    "\n",
    "anova3 = ols('Monthly_Salary ~ Education_Level * Work_Experience', data=df).fit()\n",
    "anova3_table = sm.stats.anova_lm(anova3, type=2)\n",
    "print(anova3_table)"
   ]
  },
  {
   "cell_type": "markdown",
   "metadata": {},
   "source": [
    "## Box Plot of Salary by Job Title"
   ]
  },
  {
   "cell_type": "code",
   "execution_count": null,
   "metadata": {},
   "outputs": [],
   "source": [
    "plt.figure(figsize=(10,6))\n",
    "sns.boxplot(x='Job_Title', y='Monthly_Salary', data=df)\n",
    "plt.title('Salary Distribution Across Job Titles')\n",
    "plt.xticks(rotation=45)\n",
    "plt.show()"
   ]
  },
  {
   "cell_type": "markdown",
   "metadata": {},
   "source": [
    "## Heatmap of Correlations"
   ]
  },
  {
   "cell_type": "code",
   "execution_count": null,
   "metadata": {},
   "outputs": [],
   "source": [
    "corr = df_encoded.corr()\n",
    "plt.figure(figsize=(10,8))\n",
    "sns.heatmap(corr, cmap='coolwarm', annot=False)\n",
    "plt.title('Correlation Heatmap')\n",
    "plt.show()"
   ]
  },
  {
   "cell_type": "markdown",
   "metadata": {},
   "source": [
    "## Save Processed Dataset"
   ]
  },
  {
   "cell_type": "code",
   "execution_count": null,
   "metadata": {},
   "outputs": [],
   "source": [
    "df.to_csv('employee_salary_cleaned.csv', index=False)"
   ]
  }
 ],
 "metadata": {
  "kernelspec": {
   "display_name": "Python 3",
   "language": "python",
   "name": "python3"
  },
  "language_info": {
   "name": "python",
   "version": "3.x"
  }
 },
 "nbformat": 4,
 "nbformat_minor": 5
}
